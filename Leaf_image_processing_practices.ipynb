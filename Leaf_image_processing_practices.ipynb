{
  "nbformat": 4,
  "nbformat_minor": 0,
  "metadata": {
    "colab": {
      "provenance": [],
      "include_colab_link": true
    },
    "kernelspec": {
      "name": "python3",
      "display_name": "Python 3"
    },
    "language_info": {
      "name": "python"
    }
  },
  "cells": [
    {
      "cell_type": "markdown",
      "metadata": {
        "id": "view-in-github",
        "colab_type": "text"
      },
      "source": [
        "<a href=\"https://colab.research.google.com/github/nayonski/Image-processing-with-Pillow-and-OpenCV/blob/main/Leaf_image_processing_practices.ipynb\" target=\"_parent\"><img src=\"https://colab.research.google.com/assets/colab-badge.svg\" alt=\"Open In Colab\"/></a>"
      ]
    },
    {
      "cell_type": "markdown",
      "source": [
        "Mounted Drive"
      ],
      "metadata": {
        "id": "zWDF73MnGADH"
      }
    },
    {
      "cell_type": "code",
      "source": [
        "from google.colab import drive\n",
        "drive.mount('/content/drive')"
      ],
      "metadata": {
        "colab": {
          "base_uri": "https://localhost:8080/"
        },
        "id": "sDoghs-o3CS4",
        "outputId": "f09aa913-3a5b-4353-97e5-34adb22f14e6"
      },
      "execution_count": null,
      "outputs": [
        {
          "output_type": "stream",
          "name": "stdout",
          "text": [
            "Mounted at /content/drive\n"
          ]
        }
      ]
    },
    {
      "cell_type": "markdown",
      "source": [
        "Pillow using"
      ],
      "metadata": {
        "id": "Bn6drKAUGIiE"
      }
    },
    {
      "cell_type": "code",
      "source": [
        "from PIL import Image\n",
        "import os"
      ],
      "metadata": {
        "id": "3qkTcCXh4IzI"
      },
      "execution_count": null,
      "outputs": []
    },
    {
      "cell_type": "markdown",
      "source": [
        "Image resizing"
      ],
      "metadata": {
        "id": "GA8dBkRsDt9n"
      }
    },
    {
      "cell_type": "code",
      "execution_count": null,
      "metadata": {
        "id": "4odVZIyFznut",
        "colab": {
          "base_uri": "https://localhost:8080/"
        },
        "outputId": "63393275-ff9e-472f-ae71-4efe92cc7daa"
      },
      "outputs": [
        {
          "output_type": "stream",
          "name": "stdout",
          "text": [
            " Resized and saved: IMG_20250501_164720_Burst01.jpg\n",
            " Resized and saved: IMG_20250501_164720_Burst02.jpg\n",
            " Resized and saved: IMG_20250501_164720_Burst03.jpg\n",
            " Resized and saved: IMG_20250501_164720_Burst04.jpg\n",
            " Resized and saved: IMG_20250501_164720_Burst05.jpg\n",
            " Resized and saved: IMG_20250501_164720_Burst06.jpg\n",
            " Resized and saved: IMG_20250501_164720_Burst07.jpg\n",
            " Resized and saved: IMG_20250501_164720_Burst08.jpg\n",
            " Resized and saved: IMG_20250501_164720_Burst09.jpg\n",
            " Resized and saved: IMG_20250501_164720_Burst10.jpg\n",
            " Resized and saved: IMG_20250501_164720_Burst11.jpg\n",
            " Resized and saved: IMG_20250501_164720_Burst12.jpg\n",
            " Resized and saved: IMG_20250501_164720_Burst13.jpg\n",
            " Resized and saved: IMG_20250501_164720_Burst14.jpg\n",
            " Resized and saved: IMG_20250501_164720_Burst15.jpg\n",
            " Resized and saved: IMG_20250501_164720_Burst16.jpg\n",
            " Resized and saved: IMG_20250501_164720_Burst17.jpg\n",
            " Resized and saved: IMG_20250501_164720_Burst18.jpg\n",
            " Resized and saved: IMG_20250501_164720_Burst20.jpg\n",
            " Resized and saved: IMG_20250501_164720_Burst19.jpg\n"
          ]
        }
      ],
      "source": [
        "#1. Setting source and output folder paths (double-check spelling and path)\n",
        "source_folder = r\"/content/drive/MyDrive/Citrus From (6-10)/Class 1\"\n",
        "output_folder = r\"D:\\Practice ML\\Resized class 2\"\n",
        "\n",
        "#  2. Setting target size (width, height)\n",
        "target_size = (460, 460)\n",
        "\n",
        "#  3. Creating the output folder if it doesn't exist\n",
        "if not os.path.exists(output_folder):\n",
        "    os.makedirs(output_folder)\n",
        "\n",
        "# 4. Looping all image files in the source folder\n",
        "try:\n",
        "    for filename in os.listdir(source_folder):\n",
        "        if filename.lower().endswith(('.jpg', '.jpeg', '.png')):\n",
        "            img_path = os.path.join(source_folder, filename)\n",
        "            output_path = os.path.join(output_folder, filename)\n",
        "\n",
        "            try:\n",
        "                with Image.open(img_path) as img:\n",
        "                    # The following lines were not indented correctly\n",
        "                    resized_img = img.resize(target_size)\n",
        "                    resized_img.save(output_path)\n",
        "                    print(f\" Resized and saved: {filename}\")\n",
        "            except Exception as e:\n",
        "                print(f\" Error processing {filename}: {e}\")\n",
        "except Exception as e:\n",
        "    print(f\" Problem accessing folder: {e}\")"
      ]
    },
    {
      "cell_type": "markdown",
      "source": [
        "For downloading from colab cloud to output file on laptop"
      ],
      "metadata": {
        "id": "w_5penkoDf1r"
      }
    },
    {
      "cell_type": "code",
      "source": [
        "from zipfile import ZipFile\n",
        "import shutil\n",
        "\n",
        "# 1. Zipping the resized images folder\n",
        "shutil.make_archive(\"resized_images\", 'zip', output_folder)\n",
        "\n",
        "# 2. Downloading the zip\n",
        "from google.colab import files\n",
        "files.download(\"resized_images.zip\")\n"
      ],
      "metadata": {
        "colab": {
          "base_uri": "https://localhost:8080/",
          "height": 17
        },
        "id": "TKpMnDljDdA0",
        "outputId": "ed4a2a17-7681-412f-949a-9c1895515192"
      },
      "execution_count": null,
      "outputs": [
        {
          "output_type": "display_data",
          "data": {
            "text/plain": [
              "<IPython.core.display.Javascript object>"
            ],
            "application/javascript": [
              "\n",
              "    async function download(id, filename, size) {\n",
              "      if (!google.colab.kernel.accessAllowed) {\n",
              "        return;\n",
              "      }\n",
              "      const div = document.createElement('div');\n",
              "      const label = document.createElement('label');\n",
              "      label.textContent = `Downloading \"${filename}\": `;\n",
              "      div.appendChild(label);\n",
              "      const progress = document.createElement('progress');\n",
              "      progress.max = size;\n",
              "      div.appendChild(progress);\n",
              "      document.body.appendChild(div);\n",
              "\n",
              "      const buffers = [];\n",
              "      let downloaded = 0;\n",
              "\n",
              "      const channel = await google.colab.kernel.comms.open(id);\n",
              "      // Send a message to notify the kernel that we're ready.\n",
              "      channel.send({})\n",
              "\n",
              "      for await (const message of channel.messages) {\n",
              "        // Send a message to notify the kernel that we're ready.\n",
              "        channel.send({})\n",
              "        if (message.buffers) {\n",
              "          for (const buffer of message.buffers) {\n",
              "            buffers.push(buffer);\n",
              "            downloaded += buffer.byteLength;\n",
              "            progress.value = downloaded;\n",
              "          }\n",
              "        }\n",
              "      }\n",
              "      const blob = new Blob(buffers, {type: 'application/binary'});\n",
              "      const a = document.createElement('a');\n",
              "      a.href = window.URL.createObjectURL(blob);\n",
              "      a.download = filename;\n",
              "      div.appendChild(a);\n",
              "      a.click();\n",
              "      div.remove();\n",
              "    }\n",
              "  "
            ]
          },
          "metadata": {}
        },
        {
          "output_type": "display_data",
          "data": {
            "text/plain": [
              "<IPython.core.display.Javascript object>"
            ],
            "application/javascript": [
              "download(\"download_ac84ee4c-c90f-4850-9bfa-8f5d35671b44\", \"resized_images.zip\", 287389)"
            ]
          },
          "metadata": {}
        }
      ]
    },
    {
      "cell_type": "code",
      "source": [],
      "metadata": {
        "id": "3qLs7_wRAfdb"
      },
      "execution_count": null,
      "outputs": []
    }
  ]
}